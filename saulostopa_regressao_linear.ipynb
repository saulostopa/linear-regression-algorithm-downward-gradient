{
  "nbformat": 4,
  "nbformat_minor": 0,
  "metadata": {
    "kernelspec": {
      "display_name": "Python 3",
      "language": "python",
      "name": "python3"
    },
    "language_info": {
      "codemirror_mode": {
        "name": "ipython",
        "version": 3
      },
      "file_extension": ".py",
      "mimetype": "text/x-python",
      "name": "python",
      "nbconvert_exporter": "python",
      "pygments_lexer": "ipython3",
      "version": "3.6.8"
    },
    "notify_time": "10",
    "varInspector": {
      "cols": {
        "lenName": 16,
        "lenType": 16,
        "lenVar": 40
      },
      "kernels_config": {
        "python": {
          "delete_cmd_postfix": "",
          "delete_cmd_prefix": "del ",
          "library": "var_list.py",
          "varRefreshCmd": "print(var_dic_list())"
        },
        "r": {
          "delete_cmd_postfix": ") ",
          "delete_cmd_prefix": "rm(",
          "library": "var_list.r",
          "varRefreshCmd": "cat(var_dic_list()) "
        }
      },
      "types_to_exclude": [
        "module",
        "function",
        "builtin_function_or_method",
        "instance",
        "_Feature"
      ],
      "window_display": false
    },
    "colab": {
      "name": "Exercicios_Regressao_Linear.ipynb",
      "provenance": [],
      "collapsed_sections": [],
      "include_colab_link": true
    }
  },
  "cells": [
    {
      "cell_type": "markdown",
      "metadata": {
        "id": "view-in-github",
        "colab_type": "text"
      },
      "source": [
        "<a href=\"https://colab.research.google.com/github/saulostopa/linear-regression-algorithm-downward-gradient/blob/main/saulostopa_regressao_linear.ipynb\" target=\"_parent\"><img src=\"https://colab.research.google.com/assets/colab-badge.svg\" alt=\"Open In Colab\"/></a>"
      ]
    },
    {
      "cell_type": "markdown",
      "metadata": {
        "id": "d2qaNyIqtERm"
      },
      "source": [
        "# Exercícios programa - Regressão linear"
      ]
    },
    {
      "cell_type": "markdown",
      "metadata": {
        "id": "vbpfujFAtERq"
      },
      "source": [
        "Implemente o algoritmo gradiente descendente para regressão\n",
        "linear com múltiplas variáveis e aplique seu algoritmo com os\n",
        "conjuntos de dados: **dados1.csv**, **dados2.csv** e **dados3.csv**."
      ]
    },
    {
      "cell_type": "markdown",
      "metadata": {
        "id": "OJd750DCtERr"
      },
      "source": [
        "## Carregando bibliotecas principais"
      ]
    },
    {
      "cell_type": "markdown",
      "metadata": {
        "id": "HOzqC8kQtERs"
      },
      "source": [
        "Carregando bibliotecas de uso geral, como: **numpy**, **pandas**, **matplotlib**..."
      ]
    },
    {
      "cell_type": "code",
      "metadata": {
        "ExecuteTime": {
          "end_time": "2018-08-01T21:19:14.147679Z",
          "start_time": "2018-08-01T21:19:13.797440Z"
        },
        "id": "HUzQHpgLtERs"
      },
      "source": [
        "import numpy as np\n",
        "import pandas as pd\n",
        "import matplotlib.patches as mpatches\n",
        "import matplotlib.pyplot as plt\n",
        "from IPython.display import HTML"
      ],
      "execution_count": null,
      "outputs": []
    },
    {
      "cell_type": "markdown",
      "metadata": {
        "id": "K5bCmzFitERt"
      },
      "source": [
        "## Carregando conjuntos de dados"
      ]
    },
    {
      "cell_type": "code",
      "metadata": {
        "colab": {
          "base_uri": "https://localhost:8080/"
        },
        "id": "fyn-2ktJpmLA",
        "outputId": "0f9b8e80-3f06-4ac8-d3cf-b13b2703da48"
      },
      "source": [
        "#upload dos dados para sua workspace do google Colab\n",
        "\n",
        "!wget \"https://www.dropbox.com/s/iaknv8asd9x2pgb/dados1.csv\"\n",
        "!wget \"https://www.dropbox.com/s/zzovmjot87nkgie/dados2.csv\"\n",
        "!wget \"https://www.dropbox.com/s/8mz80va0vspr2c8/dados3.csv\""
      ],
      "execution_count": null,
      "outputs": [
        {
          "output_type": "stream",
          "name": "stdout",
          "text": [
            "--2021-09-24 21:13:08--  https://www.dropbox.com/s/iaknv8asd9x2pgb/dados1.csv\n",
            "Resolving www.dropbox.com (www.dropbox.com)... 162.125.81.18, 2620:100:6035:18::a27d:5512\n",
            "Connecting to www.dropbox.com (www.dropbox.com)|162.125.81.18|:443... connected.\n",
            "HTTP request sent, awaiting response... 301 Moved Permanently\n",
            "Location: /s/raw/iaknv8asd9x2pgb/dados1.csv [following]\n",
            "--2021-09-24 21:13:09--  https://www.dropbox.com/s/raw/iaknv8asd9x2pgb/dados1.csv\n",
            "Reusing existing connection to www.dropbox.com:443.\n",
            "HTTP request sent, awaiting response... 302 Found\n",
            "Location: https://uc4e84fae45bcc170e8c331cb9f0.dl.dropboxusercontent.com/cd/0/inline/BWwJpex_hDRvhUKAopLbFyFKwyFbn9xqI-OQcaIPCu4JY3BfaWbAK3Z6e_GjoxLNPQDDyE6xR5Z9RY-A5Lj7k0dGKJU-FGFh1M_RNFdfC4TsWtoaObocDYk9eDVk_HtEVzdGRCY7vBVhah11HAt9wQkO/file# [following]\n",
            "--2021-09-24 21:13:09--  https://uc4e84fae45bcc170e8c331cb9f0.dl.dropboxusercontent.com/cd/0/inline/BWwJpex_hDRvhUKAopLbFyFKwyFbn9xqI-OQcaIPCu4JY3BfaWbAK3Z6e_GjoxLNPQDDyE6xR5Z9RY-A5Lj7k0dGKJU-FGFh1M_RNFdfC4TsWtoaObocDYk9eDVk_HtEVzdGRCY7vBVhah11HAt9wQkO/file\n",
            "Resolving uc4e84fae45bcc170e8c331cb9f0.dl.dropboxusercontent.com (uc4e84fae45bcc170e8c331cb9f0.dl.dropboxusercontent.com)... 162.125.81.15, 2620:100:6035:15::a27d:550f\n",
            "Connecting to uc4e84fae45bcc170e8c331cb9f0.dl.dropboxusercontent.com (uc4e84fae45bcc170e8c331cb9f0.dl.dropboxusercontent.com)|162.125.81.15|:443... connected.\n",
            "HTTP request sent, awaiting response... 200 OK\n",
            "Length: 510 [text/plain]\n",
            "Saving to: ‘dados1.csv’\n",
            "\n",
            "dados1.csv          100%[===================>]     510  --.-KB/s    in 0s      \n",
            "\n",
            "2021-09-24 21:13:11 (47.3 MB/s) - ‘dados1.csv’ saved [510/510]\n",
            "\n",
            "--2021-09-24 21:13:11--  https://www.dropbox.com/s/zzovmjot87nkgie/dados2.csv\n",
            "Resolving www.dropbox.com (www.dropbox.com)... 162.125.81.18, 2620:100:6035:18::a27d:5512\n",
            "Connecting to www.dropbox.com (www.dropbox.com)|162.125.81.18|:443... connected.\n",
            "HTTP request sent, awaiting response... 301 Moved Permanently\n",
            "Location: /s/raw/zzovmjot87nkgie/dados2.csv [following]\n",
            "--2021-09-24 21:13:11--  https://www.dropbox.com/s/raw/zzovmjot87nkgie/dados2.csv\n",
            "Reusing existing connection to www.dropbox.com:443.\n",
            "HTTP request sent, awaiting response... 302 Found\n",
            "Location: https://uc1bf73eaa58f7fbe6fa8c7bc4cf.dl.dropboxusercontent.com/cd/0/inline/BWxl-ij54JK6y9iMam0MhMaBNRsxJxPZBdMi0Y6PJ-iVj7fML4-Aw43-u6g8b69yxL7L5qMgXYFDls-F49HjETBVQrl3WrZK2ToirPNnJuDsNPvkTtWpf-bQBWHnFck-55IQvivqlhEeWXfgj9J0L3ps/file# [following]\n",
            "--2021-09-24 21:13:11--  https://uc1bf73eaa58f7fbe6fa8c7bc4cf.dl.dropboxusercontent.com/cd/0/inline/BWxl-ij54JK6y9iMam0MhMaBNRsxJxPZBdMi0Y6PJ-iVj7fML4-Aw43-u6g8b69yxL7L5qMgXYFDls-F49HjETBVQrl3WrZK2ToirPNnJuDsNPvkTtWpf-bQBWHnFck-55IQvivqlhEeWXfgj9J0L3ps/file\n",
            "Resolving uc1bf73eaa58f7fbe6fa8c7bc4cf.dl.dropboxusercontent.com (uc1bf73eaa58f7fbe6fa8c7bc4cf.dl.dropboxusercontent.com)... 162.125.81.15, 2620:100:6035:15::a27d:550f\n",
            "Connecting to uc1bf73eaa58f7fbe6fa8c7bc4cf.dl.dropboxusercontent.com (uc1bf73eaa58f7fbe6fa8c7bc4cf.dl.dropboxusercontent.com)|162.125.81.15|:443... connected.\n",
            "HTTP request sent, awaiting response... 200 OK\n",
            "Length: 657 [text/plain]\n",
            "Saving to: ‘dados2.csv’\n",
            "\n",
            "dados2.csv          100%[===================>]     657  --.-KB/s    in 0s      \n",
            "\n",
            "2021-09-24 21:13:13 (81.1 MB/s) - ‘dados2.csv’ saved [657/657]\n",
            "\n",
            "--2021-09-24 21:13:13--  https://www.dropbox.com/s/8mz80va0vspr2c8/dados3.csv\n",
            "Resolving www.dropbox.com (www.dropbox.com)... 162.125.81.18, 2620:100:6035:18::a27d:5512\n",
            "Connecting to www.dropbox.com (www.dropbox.com)|162.125.81.18|:443... connected.\n",
            "HTTP request sent, awaiting response... 301 Moved Permanently\n",
            "Location: /s/raw/8mz80va0vspr2c8/dados3.csv [following]\n",
            "--2021-09-24 21:13:13--  https://www.dropbox.com/s/raw/8mz80va0vspr2c8/dados3.csv\n",
            "Reusing existing connection to www.dropbox.com:443.\n",
            "HTTP request sent, awaiting response... 302 Found\n",
            "Location: https://ucd1fe1ec190f6fa9e1c5f579774.dl.dropboxusercontent.com/cd/0/inline/BWwDizUFgOPlxvCNaDx8xIjHuCPt8t8JeqjGTlbtlxyvNhPfEHyaxHJkErujquJykSaDmbcVShUHuLthr0Md1nCi1PZEOT_6vU8rTe0ILkIImEmEgJB48HQQhiI7ASqvwWOYXSFeu34zjCqezX4rrMe0/file# [following]\n",
            "--2021-09-24 21:13:13--  https://ucd1fe1ec190f6fa9e1c5f579774.dl.dropboxusercontent.com/cd/0/inline/BWwDizUFgOPlxvCNaDx8xIjHuCPt8t8JeqjGTlbtlxyvNhPfEHyaxHJkErujquJykSaDmbcVShUHuLthr0Md1nCi1PZEOT_6vU8rTe0ILkIImEmEgJB48HQQhiI7ASqvwWOYXSFeu34zjCqezX4rrMe0/file\n",
            "Resolving ucd1fe1ec190f6fa9e1c5f579774.dl.dropboxusercontent.com (ucd1fe1ec190f6fa9e1c5f579774.dl.dropboxusercontent.com)... 162.125.81.15, 2620:100:6035:15::a27d:550f\n",
            "Connecting to ucd1fe1ec190f6fa9e1c5f579774.dl.dropboxusercontent.com (ucd1fe1ec190f6fa9e1c5f579774.dl.dropboxusercontent.com)|162.125.81.15|:443... connected.\n",
            "HTTP request sent, awaiting response... 200 OK\n",
            "Length: 1619 (1.6K) [text/plain]\n",
            "Saving to: ‘dados3.csv’\n",
            "\n",
            "dados3.csv          100%[===================>]   1.58K  --.-KB/s    in 0s      \n",
            "\n",
            "2021-09-24 21:13:15 (378 MB/s) - ‘dados3.csv’ saved [1619/1619]\n",
            "\n"
          ]
        }
      ]
    },
    {
      "cell_type": "markdown",
      "metadata": {
        "id": "YIEyXEA-tERu"
      },
      "source": [
        "Carregando conjuntos **dados1.csv**, **dados2.csv** e **dados3.csv**."
      ]
    },
    {
      "cell_type": "code",
      "metadata": {
        "ExecuteTime": {
          "end_time": "2018-08-01T21:19:16.285328Z",
          "start_time": "2018-08-01T21:19:16.216623Z"
        },
        "id": "7ZDbnSsStERu"
      },
      "source": [
        "# carregando arquivos de dados\n",
        "dfdados1 = pd.read_csv('./dados1.csv', sep=',', header=None)\n",
        "dfdados2 = pd.read_csv('./dados2.csv', sep=',', header=None)\n",
        "dfdados3 = pd.read_csv('./dados3.csv', sep=',', header=None)\n",
        "\n",
        "# conjunto 1\n",
        "Xdados1 = dfdados1.values[:, 0:-1]\n",
        "Ydados1 = dfdados1.values[:, -1]\n",
        "mdados1 = np.size(Xdados1, 0)\n",
        "ndados1 = np.size(Xdados1, 1)\n",
        "\n",
        "# conjunto 2\n",
        "Xdados2 = dfdados2.values[:, 0:-1]\n",
        "Ydados2 = dfdados2.values[:, -1]\n",
        "mdados2 = np.size(Xdados2, 0)\n",
        "ndados2 = np.size(Xdados2, 1)\n",
        "\n",
        "# conjunto 3\n",
        "Xdados3 = dfdados3.values[:, 0:-1]\n",
        "Ydados3 = dfdados3.values[:, -1]\n",
        "mdados3 = np.size(Xdados3, 0)\n",
        "ndados3 = np.size(Xdados3, 1)\n",
        "\n",
        "# adicionando o bias nos conjuntos\n",
        "Xdados1 = np.c_[ np.ones(mdados1), Xdados1 ] \n",
        "Xdados2 = np.c_[ np.ones(mdados2), Xdados2 ] \n",
        "Xdados3 = np.c_[ np.ones(mdados3), Xdados3 ] "
      ],
      "execution_count": null,
      "outputs": []
    },
    {
      "cell_type": "markdown",
      "metadata": {
        "id": "g1btgakBtERv"
      },
      "source": [
        "## Exercicíos: Implemente as seguintes funções"
      ]
    },
    {
      "cell_type": "markdown",
      "metadata": {
        "id": "9K3YF2T_tERw"
      },
      "source": [
        "### 1. Implementar a função normalização (z-scores).\n",
        "$$\n",
        "X'^{(i)}_{j} = \\frac{X^{i}_j - \\mu(X_{j})}{\\sigma(X_j)}\n",
        "$$"
      ]
    },
    {
      "cell_type": "code",
      "metadata": {
        "ExecuteTime": {
          "end_time": "2018-08-01T21:20:03.562284Z",
          "start_time": "2018-08-01T21:20:03.555888Z"
        },
        "id": "dORn_siCtERw",
        "outputId": "2c744a4a-65aa-4022-9616-2747b232140d"
      },
      "source": [
        "def zscores(X, mean=None, std=None, bias=False):    \n",
        "    \n",
        "    #adicione sua implementação\n",
        "    \n",
        "\n",
        "    return (X, mean, std)\n",
        "\n",
        "\n",
        "# Testando sua função zsocre\n",
        "Xdados2T = np.copy(Xdados2)\n",
        "Xdados2T, mean_, std_ = zscores(Xdados2T, bias=True)\n",
        "print(Xdados2T[0:3, 1:])"
      ],
      "execution_count": null,
      "outputs": [
        {
          "name": "stdout",
          "output_type": "stream",
          "text": [
            "[[ 0.13141542 -0.22609337]\n",
            " [-0.5096407  -0.22609337]\n",
            " [ 0.5079087  -0.22609337]]\n"
          ]
        }
      ]
    },
    {
      "cell_type": "markdown",
      "metadata": {
        "id": "-aiQIyEBtERx"
      },
      "source": [
        "### 2. Implementar a função de custo.\n",
        " - Hipótese \n",
        "$$h_{\\theta}(x) = \\theta^{T} x = \\sum_{i=1}^{n}\\theta_i x_i$$\n",
        " - Custo\n",
        "$$J(\\theta) = \\frac{1}{2m}\\sum_{i=1}^{m}( h_\\theta(x^{(i)}) - y^{(i)} )^2$$"
      ]
    },
    {
      "cell_type": "code",
      "metadata": {
        "id": "DaC5KbQ2tERx"
      },
      "source": [
        "# hipótese (já vetorizada)\n",
        "# note que, X deve ter dimensão m x (n+1) e thetas dimensão (n+1) x 1\n",
        "def hipotese(X, thetas):\n",
        "    return X.dot(thetas)\n",
        "\n",
        "\n",
        "# função de custo\n",
        "def funcaoCusto(X, Y, thetas):\n",
        "    custo = 0\n",
        "    #adicione sua implementação\n",
        "    \n",
        "    \n",
        "    return custo"
      ],
      "execution_count": null,
      "outputs": []
    },
    {
      "cell_type": "markdown",
      "metadata": {
        "id": "fTESMdIAtERx"
      },
      "source": [
        "Seja $ X_{\\text{dados1}} $ normalizado pelo método $\\text{zscores}$. Considere $ \\theta=[1.0647, 0.1106] $, assim temos que: $ \\text{funcaoCusto}(X_{\\text{dados1}}, Y_{\\text{dados1}}, \\theta)=0.000983 $."
      ]
    },
    {
      "cell_type": "code",
      "metadata": {
        "ExecuteTime": {
          "end_time": "2018-08-01T21:20:35.105504Z",
          "start_time": "2018-08-01T21:20:35.087390Z"
        },
        "id": "zZS4J9TQtERy",
        "outputId": "276dac8e-1e68-4c8a-fe1d-d4592f16f72c"
      },
      "source": [
        "# Testando sua função custo\n",
        "Xdados1T = np.copy(Xdados1)\n",
        "Xdados1T, mean_, std_ = zscores(Xdados1T, bias=True)\n",
        "thetasTeste = np.array([1.0647, 0.1106])\n",
        "c = funcaoCusto(Xdados1T, Ydados1, thetasTeste)\n",
        "print(\"Custo = \"+format(c))"
      ],
      "execution_count": null,
      "outputs": [
        {
          "name": "stdout",
          "output_type": "stream",
          "text": [
            "Custo = 0.0009836391913337363\n"
          ]
        }
      ]
    },
    {
      "cell_type": "markdown",
      "metadata": {
        "id": "_jcpIGWmtERy"
      },
      "source": [
        "### 3. Implementar a função derivada da função de custo.\n",
        " - Derivada\n",
        "$$\\partial J(\\theta) = \\frac{1}{m}\\sum_{i=1}^{m}( h_\\theta(x^{(i)}) - y^{(i)} ) x^{(i)}_j$$"
      ]
    },
    {
      "cell_type": "code",
      "metadata": {
        "ExecuteTime": {
          "end_time": "2018-08-01T21:19:23.759964Z",
          "start_time": "2018-08-01T21:19:23.740162Z"
        },
        "scrolled": true,
        "id": "T-51eO5DtERz"
      },
      "source": [
        "# derivada da função de custo\n",
        "def derivadaDaFuncaoCusto(X, Y, thetas):\n",
        "    derivada = 0   \n",
        "    #adicione sua implementação\n",
        "    \n",
        "    \n",
        "    return derivada"
      ],
      "execution_count": null,
      "outputs": []
    },
    {
      "cell_type": "markdown",
      "metadata": {
        "id": "39Y_2Bl5tERz"
      },
      "source": [
        "Seja $ X_{\\text{dados1}} $ normalizado pelo método $\\text{zscores}$. Considere $ \\theta=[0.827225, 0.085157] $, assim temos que: $ \\text{derivadaDaFuncaoCusto}(X_{\\text{dados1}}, Y_{\\text{dados1}}, \\theta)=[-0.2375, -0.0249] $."
      ]
    },
    {
      "cell_type": "code",
      "metadata": {
        "ExecuteTime": {
          "end_time": "2018-08-01T21:20:53.481410Z",
          "start_time": "2018-08-01T21:20:53.470984Z"
        },
        "id": "WJvgMNJQtERz",
        "outputId": "ae855b63-d3b2-49cf-d61a-a1518c0633f2"
      },
      "source": [
        "Xdados1T = np.copy(Xdados1)\n",
        "Xdados1T, mean_, std_ = zscores(Xdados1T, bias=True)\n",
        "thetasTeste = np.array([0.827225, 0.085157])\n",
        "d = derivadaDaFuncaoCusto(Xdados1T, Ydados1, thetasTeste)\n",
        "print(\"Derivada = \"+format(d))"
      ],
      "execution_count": null,
      "outputs": [
        {
          "name": "stdout",
          "output_type": "stream",
          "text": [
            "Derivada = [-0.237455   -0.02430041]\n"
          ]
        }
      ]
    },
    {
      "cell_type": "markdown",
      "metadata": {
        "id": "Z_g-OxQZtER0"
      },
      "source": [
        "### 4. Implementar a função predição."
      ]
    },
    {
      "cell_type": "code",
      "metadata": {
        "ExecuteTime": {
          "end_time": "2018-08-01T21:19:26.709927Z",
          "start_time": "2018-08-01T21:19:26.706783Z"
        },
        "id": "KfNlbV-6tER0"
      },
      "source": [
        "# predição\n",
        "def predicao(X, thetas):\n",
        "    pred = 0\n",
        "    #adicione sua implementação\n",
        "    \n",
        "    \n",
        "    return pred"
      ],
      "execution_count": null,
      "outputs": []
    },
    {
      "cell_type": "markdown",
      "metadata": {
        "id": "1S_dDpsjtER0"
      },
      "source": [
        "Seja $ x=[1, 3.5] $. Considere $ \\theta=[0.827225, 0.085157] $, assim temos que: $ \\text{predicao}(x, \\theta)=1.4517 $."
      ]
    },
    {
      "cell_type": "code",
      "metadata": {
        "ExecuteTime": {
          "end_time": "2018-08-01T21:21:10.807415Z",
          "start_time": "2018-08-01T21:21:10.799196Z"
        },
        "id": "sY1cGRAntER0",
        "outputId": "f894d247-791f-4c82-f406-763bb70a0cca"
      },
      "source": [
        "thetasTeste = np.array([0.827225, 0.085157])\n",
        "x = np.array([1, 3.5])\n",
        "p = predicao(x, thetasTeste)\n",
        "print(\"Predição = \" + format(p))"
      ],
      "execution_count": null,
      "outputs": [
        {
          "name": "stdout",
          "output_type": "stream",
          "text": [
            "Predição = 1.1252745\n"
          ]
        }
      ]
    },
    {
      "cell_type": "markdown",
      "metadata": {
        "id": "vzumO_-qtER1"
      },
      "source": [
        "## Gradiente descendente"
      ]
    },
    {
      "cell_type": "code",
      "metadata": {
        "id": "q4mG4tEjtER1"
      },
      "source": [
        "# gradiente descendente\n",
        "def gradienteDescendente(X, Y, numEpocas, alpha):\n",
        "    n = np.size(X, 1)    \n",
        "    thetas = np.random.rand(n)\n",
        "    J_historico = []\n",
        "    \n",
        "    for iteracao in range(numEpocas):        \n",
        "        thetas = thetas - alpha * derivadaDaFuncaoCusto(X, Y, thetas)\n",
        "        J_historico = J_historico + [funcaoCusto(X, Y, thetas)]\n",
        "    \n",
        "    return [thetas, J_historico]"
      ],
      "execution_count": null,
      "outputs": []
    },
    {
      "cell_type": "code",
      "metadata": {
        "ExecuteTime": {
          "end_time": "2018-08-01T21:21:13.448065Z",
          "start_time": "2018-08-01T21:21:13.429044Z"
        },
        "id": "LgXKrBgGtER1"
      },
      "source": [
        "# outras funções úteis para as tabelas\n",
        "def hover(hover_color=\"#ffff99\"):\n",
        "    return dict(selector=\"tr:hover\",\n",
        "                props=[(\"background-color\", \"%s\" % hover_color)])\n",
        "\n",
        "def multi_table(table_list):\n",
        "    return HTML(\n",
        "        '<table style=\"margin: 0 auto;\"><tr style=\"vertical-align:top;background-color:white;\">' + \n",
        "        ''.join(['<td style=\"vertical-align:top;\">' + table._repr_html_() + '</td>' for table in table_list]) +\n",
        "        '</tr></table>'\n",
        "    )\n",
        "\n",
        "styles = [\n",
        "    hover(),\n",
        "    dict(selector=\"td\", props=[(\"font-size\", \"120%\"),\n",
        "                               (\"text-align\", \"center\")]),\n",
        "    dict(selector=\"th\", props=[(\"font-size\", \"120%\"),\n",
        "                               (\"text-align\", \"left\")]),\n",
        "    dict(selector=\"caption\", props=[(\"caption-side\", \"bottom\")])\n",
        "]"
      ],
      "execution_count": null,
      "outputs": []
    },
    {
      "cell_type": "markdown",
      "metadata": {
        "id": "czWs6zWktER1"
      },
      "source": [
        "# Resultados"
      ]
    },
    {
      "cell_type": "markdown",
      "metadata": {
        "id": "bVZTbKsytER1"
      },
      "source": [
        "## - Resultados para o conjunto **dados1.csv**."
      ]
    },
    {
      "cell_type": "code",
      "metadata": {
        "ExecuteTime": {
          "end_time": "2018-08-01T21:23:59.338205Z",
          "start_time": "2018-08-01T21:23:58.597404Z"
        },
        "scrolled": true,
        "id": "wXuKoFfWtER1"
      },
      "source": [
        "\"\"\" Normalizando os dados via zscores \"\"\"\n",
        "# observação: não normalizar o bias\n",
        "Xdados1, mean_, std_ = zscores(Xdados1, bias=True)\n",
        "\n",
        "\"\"\" Escolhendo parâmetros \"\"\"\n",
        "alpha = 0.001\n",
        "numEpocas = 3500\n",
        "(thetas, J_historico) = gradienteDescendente(Xdados1, Ydados1, numEpocas, alpha)\n",
        "MSE1 = J_historico[-1]\n",
        "\n",
        "\"\"\" Valor de custo acumulado \"\"\"\n",
        "plt.figure(figsize=(12,10))\n",
        "plt.plot(range(numEpocas), J_historico, color='blue', label='Funcao de custo J')\n",
        "plt.xlabel(r'Número de Épocas', fontsize=18)\n",
        "plt.ylabel(r'Custo', fontsize=18)\n",
        "plt.title(r'Evolução da função de custo: $J(\\theta)=\\frac{1}{2m}\\sum_{i=1}^m(h_\\theta(x^{(i)}) - y^{(i)})^2$'+'\\n', \n",
        "          fontsize=18)\n",
        "plt.legend()\n",
        "HTML(plt.show())\n",
        "\n",
        "\"\"\" Tabelas \"\"\"\n",
        "identifiers = range(np.size(thetas))\n",
        "tablethetas = pd.DataFrame({r'Vetor $\\theta$': np.char.mod(r'$\\theta_{%d}$', identifiers),\n",
        "                            'Valor do parâmetro':thetas})\n",
        "\n",
        "tablethetas = tablethetas[[r'Vetor $\\theta$', 'Valor do parâmetro']]\n",
        "tablethetas = (tablethetas.style.set_table_styles(styles).set_caption(\"Passe o mouse.\"))\n",
        "\n",
        "tableparams = pd.DataFrame({'Valores':[numEpocas,\n",
        "                                       alpha,\n",
        "                                      MSE1]}, \n",
        "                           index=['Número de épocas', \n",
        "                                  'Taxa de aprendizagem',\n",
        "                                 'MSE:'])\n",
        "\n",
        "tableparams = (tableparams.style.set_table_styles(styles).set_caption(\"Passe o mouse.\"))\n",
        "multi_table([tablethetas, tableparams])"
      ],
      "execution_count": null,
      "outputs": []
    },
    {
      "cell_type": "markdown",
      "metadata": {
        "id": "5zt4cCrCtER2"
      },
      "source": [
        "## - Resultados para o conjunto **dados2.csv**."
      ]
    },
    {
      "cell_type": "code",
      "metadata": {
        "ExecuteTime": {
          "end_time": "2018-08-01T21:24:24.027740Z",
          "start_time": "2018-08-01T21:24:23.552516Z"
        },
        "id": "V0ylozGstER2"
      },
      "source": [
        "\"\"\" Normalizando os dados via zscores \"\"\"\n",
        "# observação: não normalizar o bias\n",
        "Xdados2, mean_, std_ = zscores(Xdados2, bias=True)\n",
        "\n",
        "\"\"\" Escolhendo parâmetros \"\"\"\n",
        "alpha = 0.001\n",
        "numEpocas = 5000\n",
        "(thetas, J_historico) = gradienteDescendente(Xdados2, Ydados2, numEpocas, alpha)\n",
        "MSE2 = J_historico[-1]\n",
        "\n",
        "\"\"\" Valor de custo acumulado \"\"\"\n",
        "plt.figure(figsize=(12,10))\n",
        "plt.plot(range(numEpocas), J_historico, color='red', label='Funcao de custo J')\n",
        "plt.xlabel(r'Número de Épocas', fontsize=18)\n",
        "plt.ylabel(r'Custo', fontsize=18)\n",
        "plt.title(r'Evolução da função de custo: $J(\\theta)=\\frac{1}{2m}\\sum_{i=1}^m(h_\\theta(x^{(i)}) - y^{(i)})^2$'+'\\n', \n",
        "          fontsize=18)\n",
        "plt.legend()\n",
        "HTML(plt.show())\n",
        "\n",
        "\"\"\" Tabelas \"\"\"\n",
        "identifiers = range(np.size(thetas))\n",
        "tablethetas = pd.DataFrame({r'Vetor $\\theta$': np.char.mod(r'$\\theta_{%d}$', identifiers),\n",
        "                            'Valor do parâmetro':thetas})\n",
        "\n",
        "tablethetas = tablethetas[[r'Vetor $\\theta$', 'Valor do parâmetro']]\n",
        "tablethetas = (tablethetas.style.set_table_styles(styles).set_caption(\"Passe o mouse.\"))\n",
        "\n",
        "tableparams = pd.DataFrame({'Valores':[numEpocas,\n",
        "                                       alpha,\n",
        "                                      str(MSE2)]}, \n",
        "                           index=['Número de épocas', \n",
        "                                  'Taxa de aprendizagem',\n",
        "                                 'MSE:'])\n",
        "\n",
        "tableparams = (tableparams.style.set_table_styles(styles).set_caption(\"Passe o mouse.\"))\n",
        "multi_table([tablethetas, tableparams])"
      ],
      "execution_count": null,
      "outputs": []
    },
    {
      "cell_type": "markdown",
      "metadata": {
        "id": "mZItpCb7tER2"
      },
      "source": [
        "## - Resultados para o conjunto **dados3.csv**."
      ]
    },
    {
      "cell_type": "code",
      "metadata": {
        "ExecuteTime": {
          "end_time": "2018-08-01T21:24:41.158780Z",
          "start_time": "2018-08-01T21:24:40.762870Z"
        },
        "id": "5i78jVhetER2"
      },
      "source": [
        "\"\"\" Normalizando os dados via zscores \"\"\"\n",
        "# observação: não normalizar o bias\n",
        "Xdados3, mean_, std_ = zscores(Xdados3, bias=True)\n",
        "\n",
        "\"\"\" Escolhendo parâmetros \"\"\"\n",
        "alpha = 0.001\n",
        "numEpocas = 3000\n",
        "(thetas, J_historico) = gradienteDescendente(Xdados3, Ydados3, numEpocas, alpha)\n",
        "MSE3 = J_historico[-1]\n",
        "\n",
        "\"\"\" Valor de custo acumulado \"\"\"\n",
        "plt.figure(figsize=(12,10))\n",
        "plt.plot(range(numEpocas), J_historico, color='green', label='Funcao de custo J')\n",
        "plt.xlabel(r'Número de Épocas', fontsize=18)\n",
        "plt.ylabel(r'Custo', fontsize=18)\n",
        "plt.title(r'Evolução da função de custo: $J(\\theta)=\\frac{1}{2m}\\sum_{i=1}^m(h_\\theta(x^{(i)}) - y^{(i)})^2$'+'\\n', \n",
        "          fontsize=18)\n",
        "plt.legend()\n",
        "HTML(plt.show())\n",
        "\n",
        "\"\"\" Tabelas \"\"\"\n",
        "identifiers = range(np.size(thetas))\n",
        "tablethetas = pd.DataFrame({r'Vetor $\\theta$': np.char.mod(r'$\\theta_{%d}$', identifiers),\n",
        "                            'Valor do parâmetro':thetas})\n",
        "\n",
        "tablethetas = tablethetas[[r'Vetor $\\theta$', 'Valor do parâmetro']]\n",
        "tablethetas = (tablethetas.style.set_table_styles(styles).set_caption(\"Passe o mouse.\"))\n",
        "\n",
        "\n",
        "tableparams = pd.DataFrame({'Valores':[numEpocas,\n",
        "                                       alpha,\n",
        "                                      MSE3]}, \n",
        "                           index=['Número de épocas', \n",
        "                                  'Taxa de aprendizagem',\n",
        "                                 'MSE:'])\n",
        "\n",
        "tableparams = (tableparams.style.set_table_styles(styles).set_caption(\"Passe o mouse.\"))\n",
        "multi_table([tablethetas, tableparams])"
      ],
      "execution_count": null,
      "outputs": []
    }
  ]
}